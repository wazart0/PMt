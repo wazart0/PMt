{
 "metadata": {
  "language_info": {
   "codemirror_mode": {
    "name": "ipython",
    "version": 3
   },
   "file_extension": ".py",
   "mimetype": "text/x-python",
   "name": "python",
   "nbconvert_exporter": "python",
   "pygments_lexer": "ipython3",
   "version": "3.7.3-final"
  },
  "orig_nbformat": 2,
  "kernelspec": {
   "name": "python3",
   "display_name": "Python 3",
   "language": "python"
  }
 },
 "nbformat": 4,
 "nbformat_minor": 2,
 "cells": [
  {
   "cell_type": "code",
   "execution_count": 13,
   "metadata": {},
   "outputs": [],
   "source": [
    "from atlassian import Jira\n",
    "from bidict import bidict\n",
    "\n",
    "# url = 'https://tangramcare.atlassian.net/'\n",
    "# username = 'awaz@ownedoutcomes.com'\n",
    "# api_token = '6Pu9J7zSN4wBqwqgSREsAE08'\n",
    "\n",
    "jira_info = {\n",
    "    'url': 'https://tangramcare.atlassian.net/',\n",
    "    'username': 'awaz@ownedoutcomes.com',\n",
    "    'api_token': '6Pu9J7zSN4wBqwqgSREsAE08',\n",
    "}\n",
    "\n",
    "# jira_info = {\n",
    "#     'url': 'https://awaz.atlassian.net/',\n",
    "#     'username': 'wazartur@gmail.com',\n",
    "#     'api_token': 'typYw7sWGOPzOLvtq5Z91BDC',\n",
    "# }\n",
    "\n",
    "# jira standard fields config\n",
    "jira_standard_fields = bidict({\n",
    "    'Summary': 'summary',\n",
    "    'Epic': 'customfield_10008',\n",
    "    'Description': 'description',\n",
    "    'Project': 'project',\n",
    "    'Type': 'issuetype',\n",
    "    'Priority': 'priority',\n",
    "    'Labels': 'labels',\n",
    "    'Status': 'status',\n",
    "    'Creator': 'creator',\n",
    "    'Assignee': 'assignee',\n",
    "    'Parent': 'parent',\n",
    "})\n",
    "\n",
    "jira = Jira(\n",
    "            url=jira_info['url'],\n",
    "            username=jira_info['username'],\n",
    "            password=jira_info['api_token'],\n",
    "            cloud=True)"
   ]
  },
  {
   "cell_type": "code",
   "execution_count": 61,
   "metadata": {},
   "outputs": [
    {
     "output_type": "stream",
     "name": "stdout",
     "text": [
      "100\n0\n"
     ]
    }
   ],
   "source": [
    "issues = jira.jql('project=tt', fields=list(o2_pp_fields.inv.keys()), limit=1000)\n",
    "print(str(issues['maxResults']))\n",
    "print(str(len(issues['issues'])))"
   ]
  },
  {
   "cell_type": "code",
   "execution_count": 14,
   "metadata": {},
   "outputs": [],
   "source": [
    "from openpyxl import Workbook\n",
    "\n",
    "workbook = Workbook()\n",
    "sheet = workbook.active\n",
    "\n",
    "sheet[\"A1\"].value = \"Design document:\"\n",
    "sheet[\"C1\"].value = \"Link\"\n",
    "sheet[\"C1\"].hyperlink = \"https://docs.google.com/document/d/1B5RlsVSZdiuKTVAqhrn7xClewqhzrxhliUZd_yIHUBg/edit?usp=sharing\"\n",
    "sheet[\"C1\"].style = \"Hyperlink\"\n",
    "\n",
    "sheet.merge_cells('A3:A4')\n",
    "sheet['A3'].value = 'WBS'\n",
    "\n",
    "sheet.merge_cells('B3:B4')\n",
    "sheet['B3'].value = 'Name'\n",
    "\n",
    "sheet.merge_cells('C3:C4')\n",
    "sheet['C3'].value = 'Description'\n",
    "\n",
    "sheet.merge_cells('D3:D4')\n",
    "sheet['D3'].value = 'Depends on'\n",
    "\n",
    "sheet.merge_cells('E3:G3')\n",
    "sheet['E3'].value = 'Estimated development time [h]'\n",
    "sheet['E4'].value = 'Designer'\n",
    "sheet['F4'].value = 'Reviewer'\n",
    "sheet['G4'].value = 'PM'\n",
    "\n",
    "sheet.merge_cells('H3:H4')\n",
    "sheet['H3'].value = 'Assigned developer'\n",
    "\n",
    "sheet.merge_cells('I3:J3')\n",
    "sheet['I3'].value = 'Estimated testing time [h]'\n",
    "sheet['I4'].value = 'Tester'\n",
    "sheet['J4'].value = 'PM'\n",
    "\n",
    "sheet.merge_cells('K3:K4')\n",
    "sheet['K3'].value = 'Assigned tester'\n",
    "\n",
    "sheet.merge_cells('L3:N3')\n",
    "sheet['L3'].value = 'Actual development time'\n",
    "sheet['L4'].value = 'Start time'\n",
    "sheet['M4'].value = 'Finish time'\n",
    "sheet['N4'].value = 'Duration [h]'\n",
    "\n",
    "sheet.merge_cells('O3:P3')\n",
    "sheet['O3'].value = 'Commit statistics'\n",
    "sheet['O4'].value = 'Insertions'\n",
    "sheet['P4'].value = 'Deletions'\n",
    "\n",
    "sheet.merge_cells('Q3:Q4')\n",
    "sheet['Q3'].value = 'Estimated code documentation time [h]'\n",
    "\n",
    "sheet.merge_cells('R3:R4')\n",
    "sheet['R3'].value = 'Jira ID'\n",
    "\n",
    "sheet.merge_cells('S3:S4')\n",
    "sheet['S3'].value = 'Commit ID'\n",
    "\n",
    "sheet.merge_cells('T3:T4')\n",
    "sheet['T3'].value = 'Comment'\n",
    "\n",
    "\n",
    "workbook.save(filename=\"hello_world.xlsx\")"
   ]
  },
  {
   "cell_type": "code",
   "execution_count": 3,
   "metadata": {},
   "outputs": [],
   "source": [
    "def get_schema_from_sheet(sheet): # TODO schema validation\n",
    "    schema = {}\n",
    "    schema['offset_row'] = 0 # offset of WBS: TODO search for WBS\n",
    "    schema['offset_col'] = 0 # offset of WBS: TODO search for WBS\n",
    "    # schema['header_1'] = [i.value for i in sheet['1']] # TODO apply offsets\n",
    "    # schema['header_2'] = [i.value for i in sheet['2']] # TODO apply offsets\n",
    "    # schema['map_to_jira'] = { # TODO something with history (start, finish, duration columns)\n",
    "    #     'Name': 'summary',\n",
    "    #     'Description': 'description',\n",
    "    #     'Jira ID': 'key',\n",
    "    # }\n",
    "    schema['columns'] = { # TODO make it dynamic\n",
    "        'WBS': 'A',\n",
    "        'Name': 'B',\n",
    "        'Description': 'C',\n",
    "        'Jira ID': 'R',\n",
    "    }\n",
    "    schema['data_offset_row'] = 3\n",
    "    return schema\n",
    "\n",
    "\n",
    "def get_default_schema_from_template_xlsx(input_template_file = 'template.xlsx', output_schema_file = None):\n",
    "    from openpyxl import load_workbook\n",
    "    import json\n",
    "    workbook = load_workbook(filename=input_template_file)\n",
    "    sheet = workbook['Tasks']\n",
    "\n",
    "    schema = get_schema_from_sheet(sheet)\n",
    "\n",
    "    if output_schema_file == None:\n",
    "        return schema\n",
    "    else:\n",
    "        json.dump(schema, open(output_schema_file, 'w'))\n",
    "\n",
    "\n",
    "def get_issues_from_jira_and_create_xlsx_document_from_template(jira, output_file, project, label, input_template_file = 'template.xlsx'):\n",
    "    from openpyxl import load_workbook\n",
    "    import json\n",
    "    workbook = load_workbook(filename=input_template_file)\n",
    "    sheet = workbook['Tasks']\n",
    "\n",
    "    schema = get_schema_from_sheet(sheet)\n",
    "\n",
    "    issues = jira.jql('project=' + str(project), fields=list(jira_standard_fields.inv.keys()), limit=1000)\n",
    "    # issues = jira.jql('project=' + str(project) + ' and labels=' + str(label), fields=list(jira_standard_fields.inv.keys()), limit=1000)\n",
    "\n",
    "    # TODO\n",
    "\n",
    "\n",
    "def xlsx_to_jira(jira, project, label, input_filename):\n",
    "    from openpyxl import load_workbook\n",
    "    \n",
    "    workbook = load_workbook(filename=input_template_file)\n",
    "    sheet = workbook['Tasks']\n",
    "\n",
    "    schema = get_schema_from_sheet(sheet)\n",
    "    "
   ]
  },
  {
   "cell_type": "code",
   "execution_count": 134,
   "metadata": {},
   "outputs": [],
   "source": [
    "get_default_schema_from_template_xlsx(output_schema_file='schema.json')"
   ]
  },
  {
   "cell_type": "code",
   "execution_count": 2,
   "metadata": {},
   "outputs": [
    {
     "output_type": "error",
     "ename": "KeyError",
     "evalue": "'Worksheet Tasks does not exist.'",
     "traceback": [
      "\u001b[1;31m---------------------------------------------------------------------------\u001b[0m",
      "\u001b[1;31mKeyError\u001b[0m                                  Traceback (most recent call last)",
      "\u001b[1;32m<ipython-input-2-154c760c6b31>\u001b[0m in \u001b[0;36m<module>\u001b[1;34m\u001b[0m\n\u001b[0;32m      3\u001b[0m \u001b[1;33m\u001b[0m\u001b[0m\n\u001b[0;32m      4\u001b[0m \u001b[0mworkbook\u001b[0m \u001b[1;33m=\u001b[0m \u001b[0mload_workbook\u001b[0m\u001b[1;33m(\u001b[0m\u001b[0mfilename\u001b[0m\u001b[1;33m=\u001b[0m\u001b[1;34m'summary.xlsx'\u001b[0m\u001b[1;33m)\u001b[0m\u001b[1;33m\u001b[0m\u001b[1;33m\u001b[0m\u001b[0m\n\u001b[1;32m----> 5\u001b[1;33m \u001b[0msheet\u001b[0m \u001b[1;33m=\u001b[0m \u001b[0mworkbook\u001b[0m\u001b[1;33m[\u001b[0m\u001b[1;34m'Tasks'\u001b[0m\u001b[1;33m]\u001b[0m\u001b[1;33m\u001b[0m\u001b[1;33m\u001b[0m\u001b[0m\n\u001b[0m\u001b[0;32m      6\u001b[0m \u001b[1;33m\u001b[0m\u001b[0m\n\u001b[0;32m      7\u001b[0m \u001b[0mschema\u001b[0m \u001b[1;33m=\u001b[0m \u001b[0mget_schema_from_sheet\u001b[0m\u001b[1;33m(\u001b[0m\u001b[0msheet\u001b[0m\u001b[1;33m)\u001b[0m\u001b[1;33m\u001b[0m\u001b[1;33m\u001b[0m\u001b[0m\n",
      "\u001b[1;32m~\\AppData\\Local\\Programs\\Python\\Python37-32\\lib\\site-packages\\openpyxl\\workbook\\workbook.py\u001b[0m in \u001b[0;36m__getitem__\u001b[1;34m(self, key)\u001b[0m\n\u001b[0;32m    271\u001b[0m             \u001b[1;32mif\u001b[0m \u001b[0msheet\u001b[0m\u001b[1;33m.\u001b[0m\u001b[0mtitle\u001b[0m \u001b[1;33m==\u001b[0m \u001b[0mkey\u001b[0m\u001b[1;33m:\u001b[0m\u001b[1;33m\u001b[0m\u001b[1;33m\u001b[0m\u001b[0m\n\u001b[0;32m    272\u001b[0m                 \u001b[1;32mreturn\u001b[0m \u001b[0msheet\u001b[0m\u001b[1;33m\u001b[0m\u001b[1;33m\u001b[0m\u001b[0m\n\u001b[1;32m--> 273\u001b[1;33m         \u001b[1;32mraise\u001b[0m \u001b[0mKeyError\u001b[0m\u001b[1;33m(\u001b[0m\u001b[1;34m\"Worksheet {0} does not exist.\"\u001b[0m\u001b[1;33m.\u001b[0m\u001b[0mformat\u001b[0m\u001b[1;33m(\u001b[0m\u001b[0mkey\u001b[0m\u001b[1;33m)\u001b[0m\u001b[1;33m)\u001b[0m\u001b[1;33m\u001b[0m\u001b[1;33m\u001b[0m\u001b[0m\n\u001b[0m\u001b[0;32m    274\u001b[0m \u001b[1;33m\u001b[0m\u001b[0m\n\u001b[0;32m    275\u001b[0m     \u001b[1;32mdef\u001b[0m \u001b[0m__delitem__\u001b[0m\u001b[1;33m(\u001b[0m\u001b[0mself\u001b[0m\u001b[1;33m,\u001b[0m \u001b[0mkey\u001b[0m\u001b[1;33m)\u001b[0m\u001b[1;33m:\u001b[0m\u001b[1;33m\u001b[0m\u001b[1;33m\u001b[0m\u001b[0m\n",
      "\u001b[1;31mKeyError\u001b[0m: 'Worksheet Tasks does not exist.'"
     ]
    }
   ],
   "source": [
    "from openpyxl import load_workbook\n",
    "from openpyxl.styles import Font\n",
    "\n",
    "workbook = load_workbook(filename='experimental.xlsx')\n",
    "sheet = workbook['Tasks']\n",
    "\n",
    "schema = get_schema_from_sheet(sheet)\n"
   ]
  },
  {
   "cell_type": "code",
   "execution_count": 5,
   "metadata": {},
   "outputs": [
    {
     "output_type": "stream",
     "name": "stderr",
     "text": [
      "Updating issue \"TT-195\" with \"{'summary': 'Implementing TagQueryAPI', 'description': 'Implement TagQueryAPI class and functions makeIterator / AND / OR / ORX / AND_NOT. Should be added to the BigSense project.'}\"\n",
      "Updating issue \"TT-196\" with \"{'summary': 'Implement AdminPanelTags class', 'description': \"Make sure to include all tags mentioned in the design. Add class to AdminPanel's resources.\"}\"\n",
      "Updating issue \"TT-197\" with \"{'summary': 'AdminPanelAPI refactoring', 'description': None}\"\n",
      "Updating issue \"TT-198\" with \"{'summary': 'implement access validation methods', 'description': 'canView, canEdit, canCreate, canDelete, isSuperAdmin'}\"\n",
      "Updating issue \"TT-199\" with \"{'summary': 'implement PermissionType enum and translation', 'description': 'rename PermissionType to OldPermissionType and add function to translate from OldPermissionType to PermissionType'}\"\n",
      "Updating issue \"TT-200\" with \"{'summary': '[modified] refactor 78 methods marked as \"A\" in the design document', 'description': 'Im most cases the refactoring only required to verify permission using the new methods added in 3.1 or changing the method name (and marking old name as depracated), Make sure permission checks are verified in unit tests'}\"\n",
      "Updating issue \"TT-201\" with \"{'summary': 'refactor 30 methods marked as \"T\"', 'description': 'Methods require integration with the ObjectBook (either adding or removing tags)'}\"\n",
      "Updating issue \"TT-202\" with \"{'summary': 'refactor add_new_organization', 'description': None}\"\n",
      "Updating issue \"TT-203\" with \"{'summary': 'refactor add_role_for_org and add_role', 'description': None}\"\n",
      "Updating issue \"TT-204\" with \"{'summary': 'refactor get_member_permissions', 'description': None}\"\n",
      "Updating issue \"TT-205\" with \"{'summary': 'refactor add_new_application and delete_application', 'description': None}\"\n",
      "Updating issue \"TT-206\" with \"{'summary': 'refactor add_new_action method', 'description': None}\"\n",
      "Updating issue \"TT-207\" with \"{'summary': 'refactor remove_action_scope / remove_all_action_scopes', 'description': None}\"\n",
      "Updating issue \"TT-208\" with \"{'summary': 'refactor add_role_allowed_actions / remove_role_allowed_actions', 'description': None}\"\n",
      "Updating issue \"TT-209\" with \"{'summary': 'is_member_allowed', 'description': 'handle the additional input arguments'}\"\n",
      "Updating issue \"TT-210\" with \"{'summary': 'initialize_default_actions_for_super_org', 'description': None}\"\n",
      "Updating issue \"TT-211\" with \"{'summary': 'refactor 16 methods marked as \"D\" in the design document', 'description': 'Either completely remove method or rename / mark as deprecated / forward to other method'}\"\n",
      "Updating issue \"TT-212\" with \"{'summary': 'implement get_admin_roles', 'description': None}\"\n",
      "Updating issue \"TT-213\" with \"{'summary': 'implement extend_role / extend_role_scope', 'description': None}\"\n",
      "Updating issue \"TT-214\" with \"{'summary': 'implement remove_permission_from_role / remove_scope_from_role', 'description': None}\"\n",
      "Updating issue \"TT-215\" with \"{'summary': 'Implement get_applications', 'description': None}\"\n",
      "Updating issue \"TT-216\" with \"{'summary': 'Implement VPermissionWithScope / o_permission_with_scope', 'description': None}\"\n",
      "Updating issue \"TT-217\" with \"{'summary': 'Refactor ObjectFrameFactory to use fields from the modified data model classes', 'description': 'Newly added or modified fields need integration with the ObjectFrame interface'}\"\n",
      "Updating issue \"TT-218\" with \"{'summary': 'Refactoring of the Data Model', 'description': None}\"\n",
      "Updating issue \"TT-219\" with \"{'summary': 'Refactor VAction / o_action / VActoinExtension / o_action_extension classes', 'description': 'make sure to make copy of the deprecated models'}\"\n",
      "Updating issue \"TT-220\" with \"{'summary': 'Refactor VRole / o_role classes', 'description': None}\"\n",
      "Updating issue \"TT-221\" with \"{'summary': 'Refactor VOrganization / VOrganizationManager / o_ogranization / o_organization_manager classes', 'description': 'make sure to make copy of the deprecated models (VOldOrganization)'}\"\n",
      "Updating issue \"TT-222\" with \"{'summary': 'Refactor VUser / o_user classes', 'description': None}\"\n",
      "Updating issue \"TT-223\" with \"{'summary': 'Refactor VApplication / o_application classes', 'description': None}\"\n",
      "Updating issue \"TT-224\" with \"{'summary': 'Migration', 'description': None}\"\n",
      "Updating issue \"TT-225\" with \"{'summary': 'Impemented migrateTags method in all classes', 'description': None}\"\n",
      "Updating issue \"TT-226\" with \"{'summary': 'Implement clearUnusedFields method in all deprecated classes, make copy of the deprecated models', 'description': None}\"\n",
      "Updating issue \"TT-227\" with \"{'summary': 'Implement setDefaults method in migrated classes', 'description': None}\"\n",
      "Updating issue \"TT-228\" with \"{'summary': 'Implement creation of system permissions', 'description': None}\"\n",
      "Updating issue \"TT-229\" with \"{'summary': 'Implement creation of the Super Admin role', 'description': None}\"\n",
      "Updating issue \"TT-230\" with \"{'summary': 'Implement creation of the Application Level Admin Role', 'description': None}\"\n",
      "Updating issue \"TT-231\" with \"{'summary': 'Implement migration function', 'description': 'use all available methods to perform the migration'}\"\n",
      "Updating issue \"TT-232\" with \"{'summary': 'Fix unit tests', 'description': None}\"\n",
      "Updating issue \"TT-233\" with \"{'summary': 'QA review', 'description': None}\"\n",
      "Updating issue \"TT-234\" with \"{'summary': 'Permission access test', 'description': None}\"\n",
      "Updating issue \"TT-235\" with \"{'summary': 'Organization access test', 'description': None}\"\n",
      "Updating issue \"TT-236\" with \"{'summary': 'Application access test', 'description': None}\"\n",
      "Updating issue \"TT-237\" with \"{'summary': 'Member access test', 'description': None}\"\n",
      "Updating issue \"TT-238\" with \"{'summary': 'Role access test', 'description': None}\"\n",
      "Updating issue \"TT-239\" with \"{'summary': 'User access test', 'description': None}\"\n"
     ]
    }
   ],
   "source": [
    "def wbs_regex_check(string, separator = '.'):\n",
    "    import re\n",
    "    return True if re.match('\\A([0-9]+\\\\' + separator + '?)+\\Z', string) else False\n",
    "\n",
    "def wbs_regex_task(string):\n",
    "    import re\n",
    "    return True if re.match('\\A[0-9]+\\Z', string) else False\n",
    "\n",
    "def get_jira_key_for_wbs(schema, wbs):\n",
    "    i = schema['data_offset_row']\n",
    "    while sheet[schema['columns']['WBS'] + str(i)].value is not None:\n",
    "        if wbs == sheet[schema['columns']['WBS'] + str(i)].value:\n",
    "            return sheet[schema['columns']['Jira ID'] + str(i)].value\n",
    "        i = i + 1 \n",
    "    return None\n",
    "\n",
    "def create_or_update_issue(jira, schema, index, project, type, label, parent = None):\n",
    "    if sheet[schema['columns']['Jira ID'] + str(index)].value is None: # create issue\n",
    "        issue = jira.issue_create({\n",
    "            'summary': sheet[schema['columns']['Name'] + str(index)].value,\n",
    "            'description': sheet[schema['columns']['Description'] + str(index)].value,\n",
    "            'project': {'key': project},\n",
    "            'issuetype': {'name': type},\n",
    "            'parent': {'key': parent},\n",
    "            # 'Priority': 'priority',\n",
    "            # 'Status': 'status',\n",
    "            # 'Creator': 'creator',\n",
    "            # 'Assignee': 'assignee',\n",
    "        })\n",
    "        sheet[schema['columns']['Jira ID'] + str(index)].value = issue['key']\n",
    "        sheet[schema['columns']['Jira ID'] + str(index)].hyperlink = jira.url + '/browse/' + issue['key']\n",
    "        sheet[schema['columns']['Jira ID'] + str(index)].font = Font(underline='single', color='0000FF')\n",
    "        print(issue)\n",
    "    else:\n",
    "        jira.issue_update(sheet[schema['columns']['Jira ID'] + str(index)].value, {\n",
    "            'summary': sheet[schema['columns']['Name'] + str(index)].value,\n",
    "            'description': sheet[schema['columns']['Description'] + str(index)].value,\n",
    "        })\n",
    "    jira.edit_issue(issue_id_or_key=sheet[schema['columns']['Jira ID'] + str(index)].value, fields={\"labels\": [{\"add\": label}]}, notify_users=False)\n",
    "\n",
    "def create_or_update_issues(jira, sheet, schema):\n",
    "    i = schema['data_offset_row']\n",
    "    while sheet[schema['columns']['WBS'] + str(i)].value is not None:\n",
    "        wbs = sheet[schema['columns']['WBS'] + str(i)].value\n",
    "        if not wbs_regex_check(wbs):\n",
    "            raise Exception('Problem in WBS number structure: ' + str(wbs))\n",
    "\n",
    "        if wbs_regex_task(wbs):\n",
    "            create_or_update_issue(jira=jira, schema=schema, index=i, project='TT', type='Task', label='BNAP_refactor')\n",
    "        else:\n",
    "            import re\n",
    "            parent = get_jira_key_for_wbs(schema=schema, wbs=re.match('\\A[0-9]+', wbs)[0])\n",
    "            if parent is None:\n",
    "                raise Exception('Task doesn\\'t have a parent: ' + wbs)\n",
    "            create_or_update_issue(jira=jira, schema=schema, index=i, project='TT', type='Sub-task', label='BNAP_refactor', parent=parent)\n",
    "\n",
    "        i = i + 1\n",
    "\n",
    "create_or_update_issues(jira=jira, sheet=sheet, schema=schema)"
   ]
  },
  {
   "cell_type": "code",
   "execution_count": 6,
   "metadata": {},
   "outputs": [],
   "source": [
    "workbook.save(filename='experimental.xlsx')"
   ]
  },
  {
   "cell_type": "code",
   "execution_count": 183,
   "metadata": {},
   "outputs": [
    {
     "output_type": "execute_result",
     "data": {
      "text/plain": [
       "True"
      ]
     },
     "metadata": {},
     "execution_count": 183
    }
   ],
   "source": [
    "wbs_regex_check('1.')"
   ]
  },
  {
   "cell_type": "code",
   "execution_count": 217,
   "metadata": {},
   "outputs": [
    {
     "output_type": "execute_result",
     "data": {
      "text/plain": [
       "'213'"
      ]
     },
     "metadata": {},
     "execution_count": 217
    }
   ],
   "source": [
    "re.match(, '213.432.43')[0]"
   ]
  },
  {
   "cell_type": "code",
   "execution_count": 248,
   "metadata": {},
   "outputs": [
    {
     "output_type": "execute_result",
     "data": {
      "text/plain": [
       "[]"
      ]
     },
     "metadata": {},
     "execution_count": 248
    }
   ],
   "source": [
    "jira.get_issue_labels('TT-195')"
   ]
  },
  {
   "cell_type": "code",
   "execution_count": 18,
   "metadata": {},
   "outputs": [
    {
     "output_type": "stream",
     "name": "stderr",
     "text": [
      "Creating issue \"Assign categories to View Dashboard testcases\"\n",
      "PP-160\n",
      "Link View Dashboard testcases\n",
      "Creating issue \"Assign categories to Graph View testcases\"\n",
      "PP-160\n",
      "Link Graph View testcases\n",
      "Creating issue \"Assign categories to Map View testcases\"\n",
      "PP-160\n",
      "Link Map View testcases\n",
      "Creating issue \"Assign categories to 2D Graph View testcases\"\n",
      "PP-160\n",
      "Link 2D Graph View testcases\n",
      "Creating issue \"Assign categories to Authentication testcases\"\n",
      "PP-160\n",
      "Link Authentication testcases\n",
      "Creating issue \"Assign categories to General Sidebar Interactions testcases\"\n",
      "PP-160\n",
      "Link General Sidebar Interactions testcases\n",
      "Creating issue \"Assign categories to Dataset Management testcases\"\n",
      "PP-160\n",
      "Link Dataset Management testcases\n",
      "Creating issue \"Assign categories to Location Filter testcases\"\n",
      "PP-160\n",
      "Link Location Filter testcases\n",
      "Creating issue \"Assign categories to Service Line Filter testcases\"\n",
      "PP-160\n",
      "Link Service Line Filter testcases\n",
      "Creating issue \"Assign categories to Entity Filter testcases\"\n",
      "PP-160\n",
      "Link Entity Filter testcases\n",
      "Creating issue \"Assign categories to Time Filter testcases\"\n",
      "PP-160\n",
      "Link Time Filter testcases\n",
      "Creating issue \"Assign categories to Benchmark Panel testcases\"\n",
      "PP-160\n",
      "Link Benchmark Panel testcases\n",
      "Creating issue \"Assign categories to Benchmark Average on Graph testcases\"\n",
      "PP-160\n",
      "Link Benchmark Average on Graph testcases\n",
      "Creating issue \"Assign categories to Benchmark Percenile on Graph testcases\"\n",
      "PP-160\n",
      "Link Benchmark Percenile on Graph testcases\n",
      "Creating issue \"Assign categories to Benchmark Average & Percentile on Map testcases\"\n",
      "PP-160\n",
      "Link Benchmark Average & Percentile on Map testcases\n",
      "Creating issue \"Assign categories to Labels testcases\"\n",
      "PP-160\n",
      "Link Labels testcases\n",
      "Creating issue \"Assign categories to New Graph implementation (Priyanka) testcases\"\n",
      "PP-160\n",
      "Link New Graph implementation (Priyanka) testcases\n",
      "Creating issue \"Assign categories to Smoke Test testcases\"\n",
      "PP-160\n",
      "Link Smoke Test testcases\n"
     ]
    }
   ],
   "source": [
    "from openpyxl import load_workbook\n",
    "from openpyxl.styles import Font\n",
    "\n",
    "workbook = load_workbook(filename='summary.xlsx')\n",
    "sheet = workbook['Sheet1']\n",
    "\n",
    "i = 1\n",
    "while sheet['A' + str(i)].value is not None:\n",
    "\n",
    "    print(sheet['A' + str(i)].value)\n",
    "    print(sheet['c'+str(i)].value + sheet['d'+str(i)].value + sheet['e'+str(i)].value)\n",
    "    issue = jira.issue_create({\n",
    "            'summary': 'Assign categories to ' + sheet['d'+str(i)].value + ' testcases',\n",
    "            # 'description': sheet[schema['columns']['Description'] + str(index)].value,\n",
    "            'project': {'key': 'PP'},\n",
    "            'issuetype': {'name': 'Sub-task'},\n",
    "            'parent': {'key': 'PP-162'},\n",
    "            # 'Priority': 'priority',\n",
    "            # 'Status': 'status',\n",
    "            # 'Creator': 'creator',\n",
    "            # 'Assignee': 'assignee',\n",
    "        })\n",
    "\n",
    "    i = i + 1"
   ]
  },
  {
   "cell_type": "code",
   "execution_count": null,
   "metadata": {},
   "outputs": [],
   "source": []
  }
 ]
}